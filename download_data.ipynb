{
  "nbformat": 4,
  "nbformat_minor": 0,
  "metadata": {
    "colab": {
      "name": "download_data.ipynb",
      "version": "0.3.2",
      "provenance": []
    },
    "kernelspec": {
      "display_name": "Python 3",
      "language": "python",
      "name": "python3"
    }
  },
  "cells": [
    {
      "metadata": {
        "id": "TAt5RE20JzxP",
        "colab_type": "text"
      },
      "cell_type": "markdown",
      "source": [
        "# Project 2 - Earthquake Dataset Download \n",
        "\n",
        "*Authors: João Victor Barboza, Thais Lins, Vanessa Uchida, Yuri Martins*"
      ]
    },
    {
      "metadata": {
        "id": "fvYPDvH2KGRo",
        "colab_type": "text"
      },
      "cell_type": "markdown",
      "source": [
        "# 1 - Description \n",
        "\n",
        "> This notebook consists of requests made to the [USGS - Earthquake Catalog](https://earthquake.usgs.gov/earthquakes/search/) website, so that data from 1980 though to 2018 could be collected and used for future analysis. For this, a few librearies were imported and requests were made on an offset of 20000 (that is the limit value in which the website allows downloads) until all the necessary data was collected. And finally, the datasets were merged together, and will be used later on."
      ]
    },
    {
      "metadata": {
        "id": "cmHGCNAqJvCp",
        "colab_type": "code",
        "colab": {}
      },
      "cell_type": "code",
      "source": [
        "# Import packages\n",
        "import requests\n",
        "import pandas as pd\n",
        "import csv\n",
        "import io"
      ],
      "execution_count": 0,
      "outputs": []
    },
    {
      "metadata": {
        "id": "xGpQHu2pJvCt",
        "colab_type": "code",
        "colab": {}
      },
      "cell_type": "code",
      "source": [
        "#Base url used for downloading data\n",
        "total_results = 209_456\n",
        "base_url = 'https://earthquake.usgs.gov/fdsnws/event/1/query.csv?starttime=1980-01-01%2000:00:00&endtime=2018-10-26%2023:59:59&minmagnitude=4.5&orderby=time&limit=20000&offset={}'"
      ],
      "execution_count": 0,
      "outputs": []
    },
    {
      "metadata": {
        "id": "tYOEXxz7JvCv",
        "colab_type": "code",
        "colab": {}
      },
      "cell_type": "code",
      "source": [
        "# Download data\n",
        "downloaded_count = 0\n",
        "data = []\n",
        "for i in range(1, total_results, 20_000):\n",
        "    data.append(requests.get(base_url.format(i)))"
      ],
      "execution_count": 0,
      "outputs": []
    },
    {
      "metadata": {
        "id": "jfi4fctKJvCz",
        "colab_type": "code",
        "colab": {},
        "outputId": "4cc3ccfa-9816-4199-b250-355d0e32f91a"
      },
      "cell_type": "code",
      "source": [
        "#https://earthquake.usgs.gov/fdsnws/event/1/query.csv?starttime=1980-01-01%2000:00:00&endtime=2018-10-26%2023:59:59&minmagnitude=4.5&orderby=time&limit=20000&offset=0\n",
        "data"
      ],
      "execution_count": 0,
      "outputs": [
        {
          "output_type": "execute_result",
          "data": {
            "text/plain": [
              "[<Response [200]>,\n",
              " <Response [200]>,\n",
              " <Response [200]>,\n",
              " <Response [200]>,\n",
              " <Response [200]>,\n",
              " <Response [200]>,\n",
              " <Response [200]>,\n",
              " <Response [200]>,\n",
              " <Response [200]>,\n",
              " <Response [200]>,\n",
              " <Response [200]>]"
            ]
          },
          "metadata": {
            "tags": []
          },
          "execution_count": 13
        }
      ]
    },
    {
      "metadata": {
        "id": "C4Un4Fi_JvC3",
        "colab_type": "code",
        "colab": {},
        "outputId": "e632a5df-0162-4a80-c588-cc184810f719"
      },
      "cell_type": "code",
      "source": [
        "data[0].text[:100]"
      ],
      "execution_count": 0,
      "outputs": [
        {
          "output_type": "execute_result",
          "data": {
            "text/plain": [
              "'time,latitude,longitude,depth,mag,magType,nst,gap,dmin,rms,net,id,updated,place,type,horizontalError'"
            ]
          },
          "metadata": {
            "tags": []
          },
          "execution_count": 27
        }
      ]
    },
    {
      "metadata": {
        "id": "I9f3B7SBJvC7",
        "colab_type": "code",
        "colab": {}
      },
      "cell_type": "code",
      "source": [
        "dfs = [pd.read_csv(io.StringIO(d.content.decode('utf-8'))) for d in data]"
      ],
      "execution_count": 0,
      "outputs": []
    },
    {
      "metadata": {
        "id": "7QUypOAlJvC-",
        "colab_type": "code",
        "colab": {},
        "outputId": "eb5e5f10-5254-4f04-8e5e-5710abe5f53f"
      },
      "cell_type": "code",
      "source": [
        "#Merge collected dataframes\n",
        "from functools import reduce\n",
        "\n",
        "merged_df = reduce(lambda d1, d2: d1.append(d2, ignore_index=True), dfs)\n",
        "merged_df.describe()"
      ],
      "execution_count": 0,
      "outputs": [
        {
          "output_type": "execute_result",
          "data": {
            "text/html": [
              "<div>\n",
              "<style scoped>\n",
              "    .dataframe tbody tr th:only-of-type {\n",
              "        vertical-align: middle;\n",
              "    }\n",
              "\n",
              "    .dataframe tbody tr th {\n",
              "        vertical-align: top;\n",
              "    }\n",
              "\n",
              "    .dataframe thead th {\n",
              "        text-align: right;\n",
              "    }\n",
              "</style>\n",
              "<table border=\"1\" class=\"dataframe\">\n",
              "  <thead>\n",
              "    <tr style=\"text-align: right;\">\n",
              "      <th></th>\n",
              "      <th>latitude</th>\n",
              "      <th>longitude</th>\n",
              "      <th>depth</th>\n",
              "      <th>mag</th>\n",
              "      <th>nst</th>\n",
              "      <th>gap</th>\n",
              "      <th>dmin</th>\n",
              "      <th>rms</th>\n",
              "      <th>horizontalError</th>\n",
              "      <th>depthError</th>\n",
              "      <th>magError</th>\n",
              "      <th>magNst</th>\n",
              "    </tr>\n",
              "  </thead>\n",
              "  <tbody>\n",
              "    <tr>\n",
              "      <th>count</th>\n",
              "      <td>209457.000000</td>\n",
              "      <td>209457.000000</td>\n",
              "      <td>209457.000000</td>\n",
              "      <td>209457.000000</td>\n",
              "      <td>87625.000000</td>\n",
              "      <td>110710.000000</td>\n",
              "      <td>37466.000000</td>\n",
              "      <td>200202.000000</td>\n",
              "      <td>30235.000000</td>\n",
              "      <td>95990.000000</td>\n",
              "      <td>35817.000000</td>\n",
              "      <td>164656.000000</td>\n",
              "    </tr>\n",
              "    <tr>\n",
              "      <th>mean</th>\n",
              "      <td>3.878726</td>\n",
              "      <td>45.582278</td>\n",
              "      <td>72.683005</td>\n",
              "      <td>4.879487</td>\n",
              "      <td>84.961050</td>\n",
              "      <td>95.211482</td>\n",
              "      <td>4.481166</td>\n",
              "      <td>0.978400</td>\n",
              "      <td>8.411724</td>\n",
              "      <td>8.566884</td>\n",
              "      <td>0.102116</td>\n",
              "      <td>27.747231</td>\n",
              "    </tr>\n",
              "    <tr>\n",
              "      <th>std</th>\n",
              "      <td>28.925058</td>\n",
              "      <td>120.435723</td>\n",
              "      <td>118.293309</td>\n",
              "      <td>0.411393</td>\n",
              "      <td>99.297185</td>\n",
              "      <td>47.488716</td>\n",
              "      <td>5.941718</td>\n",
              "      <td>0.302074</td>\n",
              "      <td>5.517162</td>\n",
              "      <td>8.375248</td>\n",
              "      <td>0.061556</td>\n",
              "      <td>46.814892</td>\n",
              "    </tr>\n",
              "    <tr>\n",
              "      <th>min</th>\n",
              "      <td>-84.133000</td>\n",
              "      <td>-179.999000</td>\n",
              "      <td>-2.540000</td>\n",
              "      <td>4.500000</td>\n",
              "      <td>0.000000</td>\n",
              "      <td>0.000000</td>\n",
              "      <td>0.000000</td>\n",
              "      <td>0.000000</td>\n",
              "      <td>0.000000</td>\n",
              "      <td>0.000000</td>\n",
              "      <td>0.000000</td>\n",
              "      <td>0.000000</td>\n",
              "    </tr>\n",
              "    <tr>\n",
              "      <th>25%</th>\n",
              "      <td>-17.356000</td>\n",
              "      <td>-70.726000</td>\n",
              "      <td>10.450000</td>\n",
              "      <td>4.600000</td>\n",
              "      <td>24.000000</td>\n",
              "      <td>59.000000</td>\n",
              "      <td>1.286000</td>\n",
              "      <td>0.820000</td>\n",
              "      <td>6.100000</td>\n",
              "      <td>3.600000</td>\n",
              "      <td>0.061000</td>\n",
              "      <td>5.000000</td>\n",
              "    </tr>\n",
              "    <tr>\n",
              "      <th>50%</th>\n",
              "      <td>-0.066000</td>\n",
              "      <td>103.386000</td>\n",
              "      <td>33.000000</td>\n",
              "      <td>4.800000</td>\n",
              "      <td>48.000000</td>\n",
              "      <td>90.400000</td>\n",
              "      <td>2.687000</td>\n",
              "      <td>0.980000</td>\n",
              "      <td>7.900000</td>\n",
              "      <td>6.400000</td>\n",
              "      <td>0.088000</td>\n",
              "      <td>13.000000</td>\n",
              "    </tr>\n",
              "    <tr>\n",
              "      <th>75%</th>\n",
              "      <td>28.109000</td>\n",
              "      <td>142.712000</td>\n",
              "      <td>64.200000</td>\n",
              "      <td>5.000000</td>\n",
              "      <td>103.000000</td>\n",
              "      <td>124.200000</td>\n",
              "      <td>5.047000</td>\n",
              "      <td>1.120000</td>\n",
              "      <td>10.100000</td>\n",
              "      <td>10.700000</td>\n",
              "      <td>0.128000</td>\n",
              "      <td>30.000000</td>\n",
              "    </tr>\n",
              "    <tr>\n",
              "      <th>max</th>\n",
              "      <td>87.221000</td>\n",
              "      <td>180.000000</td>\n",
              "      <td>700.900000</td>\n",
              "      <td>9.100000</td>\n",
              "      <td>934.000000</td>\n",
              "      <td>353.000000</td>\n",
              "      <td>62.626000</td>\n",
              "      <td>69.320000</td>\n",
              "      <td>99.000000</td>\n",
              "      <td>791.300000</td>\n",
              "      <td>1.642000</td>\n",
              "      <td>941.000000</td>\n",
              "    </tr>\n",
              "  </tbody>\n",
              "</table>\n",
              "</div>"
            ],
            "text/plain": [
              "            latitude      longitude          depth            mag  \\\n",
              "count  209457.000000  209457.000000  209457.000000  209457.000000   \n",
              "mean        3.878726      45.582278      72.683005       4.879487   \n",
              "std        28.925058     120.435723     118.293309       0.411393   \n",
              "min       -84.133000    -179.999000      -2.540000       4.500000   \n",
              "25%       -17.356000     -70.726000      10.450000       4.600000   \n",
              "50%        -0.066000     103.386000      33.000000       4.800000   \n",
              "75%        28.109000     142.712000      64.200000       5.000000   \n",
              "max        87.221000     180.000000     700.900000       9.100000   \n",
              "\n",
              "                nst            gap          dmin            rms  \\\n",
              "count  87625.000000  110710.000000  37466.000000  200202.000000   \n",
              "mean      84.961050      95.211482      4.481166       0.978400   \n",
              "std       99.297185      47.488716      5.941718       0.302074   \n",
              "min        0.000000       0.000000      0.000000       0.000000   \n",
              "25%       24.000000      59.000000      1.286000       0.820000   \n",
              "50%       48.000000      90.400000      2.687000       0.980000   \n",
              "75%      103.000000     124.200000      5.047000       1.120000   \n",
              "max      934.000000     353.000000     62.626000      69.320000   \n",
              "\n",
              "       horizontalError    depthError      magError         magNst  \n",
              "count     30235.000000  95990.000000  35817.000000  164656.000000  \n",
              "mean          8.411724      8.566884      0.102116      27.747231  \n",
              "std           5.517162      8.375248      0.061556      46.814892  \n",
              "min           0.000000      0.000000      0.000000       0.000000  \n",
              "25%           6.100000      3.600000      0.061000       5.000000  \n",
              "50%           7.900000      6.400000      0.088000      13.000000  \n",
              "75%          10.100000     10.700000      0.128000      30.000000  \n",
              "max          99.000000    791.300000      1.642000     941.000000  "
            ]
          },
          "metadata": {
            "tags": []
          },
          "execution_count": 30
        }
      ]
    },
    {
      "metadata": {
        "id": "pk-46ETqJvDB",
        "colab_type": "code",
        "colab": {},
        "outputId": "2f8e5ae9-8939-425d-885f-e43517af8946"
      },
      "cell_type": "code",
      "source": [
        "merged_df.info()"
      ],
      "execution_count": 0,
      "outputs": [
        {
          "output_type": "stream",
          "text": [
            "<class 'pandas.core.frame.DataFrame'>\n",
            "RangeIndex: 209457 entries, 0 to 209456\n",
            "Data columns (total 22 columns):\n",
            "time               209457 non-null object\n",
            "latitude           209457 non-null float64\n",
            "longitude          209457 non-null float64\n",
            "depth              209457 non-null float64\n",
            "mag                209457 non-null float64\n",
            "magType            209456 non-null object\n",
            "nst                87625 non-null float64\n",
            "gap                110710 non-null float64\n",
            "dmin               37466 non-null float64\n",
            "rms                200202 non-null float64\n",
            "net                209457 non-null object\n",
            "id                 209457 non-null object\n",
            "updated            209457 non-null object\n",
            "place              209452 non-null object\n",
            "type               209457 non-null object\n",
            "horizontalError    30235 non-null float64\n",
            "depthError         95990 non-null float64\n",
            "magError           35817 non-null float64\n",
            "magNst             164656 non-null float64\n",
            "status             209457 non-null object\n",
            "locationSource     209457 non-null object\n",
            "magSource          209457 non-null object\n",
            "dtypes: float64(12), object(10)\n",
            "memory usage: 35.2+ MB\n"
          ],
          "name": "stdout"
        }
      ]
    },
    {
      "metadata": {
        "id": "6EcKMKFiJvDE",
        "colab_type": "code",
        "colab": {}
      },
      "cell_type": "code",
      "source": [
        "# Export merged dataset to csv\n",
        "merged_df.to_csv('earthquakes.csv')"
      ],
      "execution_count": 0,
      "outputs": []
    }
  ]
}