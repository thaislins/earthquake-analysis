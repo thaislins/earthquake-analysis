{
 "cells": [
  {
   "cell_type": "code",
   "execution_count": 14,
   "metadata": {},
   "outputs": [],
   "source": [
    "# Import packages\n",
    "import requests\n",
    "import pandas as pd\n",
    "import csv\n",
    "import io"
   ]
  },
  {
   "cell_type": "code",
   "execution_count": 2,
   "metadata": {},
   "outputs": [],
   "source": [
    "total_results = 209_456\n",
    "base_url = 'https://earthquake.usgs.gov/fdsnws/event/1/query.csv?starttime=1980-01-01%2000:00:00&endtime=2018-10-26%2023:59:59&minmagnitude=4.5&orderby=time&limit=20000&offset={}'"
   ]
  },
  {
   "cell_type": "code",
   "execution_count": 7,
   "metadata": {},
   "outputs": [],
   "source": [
    "# Download data\n",
    "downloaded_count = 0\n",
    "data = []\n",
    "for i in range(1, total_results, 20_000):\n",
    "    data.append(requests.get(base_url.format(i)))"
   ]
  },
  {
   "cell_type": "code",
   "execution_count": 13,
   "metadata": {},
   "outputs": [
    {
     "data": {
      "text/plain": [
       "[<Response [200]>,\n",
       " <Response [200]>,\n",
       " <Response [200]>,\n",
       " <Response [200]>,\n",
       " <Response [200]>,\n",
       " <Response [200]>,\n",
       " <Response [200]>,\n",
       " <Response [200]>,\n",
       " <Response [200]>,\n",
       " <Response [200]>,\n",
       " <Response [200]>]"
      ]
     },
     "execution_count": 13,
     "metadata": {},
     "output_type": "execute_result"
    }
   ],
   "source": [
    "#https://earthquake.usgs.gov/fdsnws/event/1/query.csv?starttime=1980-01-01%2000:00:00&endtime=2018-10-26%2023:59:59&minmagnitude=4.5&orderby=time&limit=20000&offset=0\n",
    "data"
   ]
  },
  {
   "cell_type": "code",
   "execution_count": 27,
   "metadata": {},
   "outputs": [
    {
     "data": {
      "text/plain": [
       "'time,latitude,longitude,depth,mag,magType,nst,gap,dmin,rms,net,id,updated,place,type,horizontalError'"
      ]
     },
     "execution_count": 27,
     "metadata": {},
     "output_type": "execute_result"
    }
   ],
   "source": [
    "data[0].text[:100]"
   ]
  },
  {
   "cell_type": "code",
   "execution_count": 17,
   "metadata": {},
   "outputs": [],
   "source": [
    "dfs = [pd.read_csv(io.StringIO(d.content.decode('utf-8'))) for d in data]"
   ]
  },
  {
   "cell_type": "code",
   "execution_count": 30,
   "metadata": {},
   "outputs": [
    {
     "data": {
      "text/html": [
       "<div>\n",
       "<style scoped>\n",
       "    .dataframe tbody tr th:only-of-type {\n",
       "        vertical-align: middle;\n",
       "    }\n",
       "\n",
       "    .dataframe tbody tr th {\n",
       "        vertical-align: top;\n",
       "    }\n",
       "\n",
       "    .dataframe thead th {\n",
       "        text-align: right;\n",
       "    }\n",
       "</style>\n",
       "<table border=\"1\" class=\"dataframe\">\n",
       "  <thead>\n",
       "    <tr style=\"text-align: right;\">\n",
       "      <th></th>\n",
       "      <th>latitude</th>\n",
       "      <th>longitude</th>\n",
       "      <th>depth</th>\n",
       "      <th>mag</th>\n",
       "      <th>nst</th>\n",
       "      <th>gap</th>\n",
       "      <th>dmin</th>\n",
       "      <th>rms</th>\n",
       "      <th>horizontalError</th>\n",
       "      <th>depthError</th>\n",
       "      <th>magError</th>\n",
       "      <th>magNst</th>\n",
       "    </tr>\n",
       "  </thead>\n",
       "  <tbody>\n",
       "    <tr>\n",
       "      <th>count</th>\n",
       "      <td>209457.000000</td>\n",
       "      <td>209457.000000</td>\n",
       "      <td>209457.000000</td>\n",
       "      <td>209457.000000</td>\n",
       "      <td>87625.000000</td>\n",
       "      <td>110710.000000</td>\n",
       "      <td>37466.000000</td>\n",
       "      <td>200202.000000</td>\n",
       "      <td>30235.000000</td>\n",
       "      <td>95990.000000</td>\n",
       "      <td>35817.000000</td>\n",
       "      <td>164656.000000</td>\n",
       "    </tr>\n",
       "    <tr>\n",
       "      <th>mean</th>\n",
       "      <td>3.878726</td>\n",
       "      <td>45.582278</td>\n",
       "      <td>72.683005</td>\n",
       "      <td>4.879487</td>\n",
       "      <td>84.961050</td>\n",
       "      <td>95.211482</td>\n",
       "      <td>4.481166</td>\n",
       "      <td>0.978400</td>\n",
       "      <td>8.411724</td>\n",
       "      <td>8.566884</td>\n",
       "      <td>0.102116</td>\n",
       "      <td>27.747231</td>\n",
       "    </tr>\n",
       "    <tr>\n",
       "      <th>std</th>\n",
       "      <td>28.925058</td>\n",
       "      <td>120.435723</td>\n",
       "      <td>118.293309</td>\n",
       "      <td>0.411393</td>\n",
       "      <td>99.297185</td>\n",
       "      <td>47.488716</td>\n",
       "      <td>5.941718</td>\n",
       "      <td>0.302074</td>\n",
       "      <td>5.517162</td>\n",
       "      <td>8.375248</td>\n",
       "      <td>0.061556</td>\n",
       "      <td>46.814892</td>\n",
       "    </tr>\n",
       "    <tr>\n",
       "      <th>min</th>\n",
       "      <td>-84.133000</td>\n",
       "      <td>-179.999000</td>\n",
       "      <td>-2.540000</td>\n",
       "      <td>4.500000</td>\n",
       "      <td>0.000000</td>\n",
       "      <td>0.000000</td>\n",
       "      <td>0.000000</td>\n",
       "      <td>0.000000</td>\n",
       "      <td>0.000000</td>\n",
       "      <td>0.000000</td>\n",
       "      <td>0.000000</td>\n",
       "      <td>0.000000</td>\n",
       "    </tr>\n",
       "    <tr>\n",
       "      <th>25%</th>\n",
       "      <td>-17.356000</td>\n",
       "      <td>-70.726000</td>\n",
       "      <td>10.450000</td>\n",
       "      <td>4.600000</td>\n",
       "      <td>24.000000</td>\n",
       "      <td>59.000000</td>\n",
       "      <td>1.286000</td>\n",
       "      <td>0.820000</td>\n",
       "      <td>6.100000</td>\n",
       "      <td>3.600000</td>\n",
       "      <td>0.061000</td>\n",
       "      <td>5.000000</td>\n",
       "    </tr>\n",
       "    <tr>\n",
       "      <th>50%</th>\n",
       "      <td>-0.066000</td>\n",
       "      <td>103.386000</td>\n",
       "      <td>33.000000</td>\n",
       "      <td>4.800000</td>\n",
       "      <td>48.000000</td>\n",
       "      <td>90.400000</td>\n",
       "      <td>2.687000</td>\n",
       "      <td>0.980000</td>\n",
       "      <td>7.900000</td>\n",
       "      <td>6.400000</td>\n",
       "      <td>0.088000</td>\n",
       "      <td>13.000000</td>\n",
       "    </tr>\n",
       "    <tr>\n",
       "      <th>75%</th>\n",
       "      <td>28.109000</td>\n",
       "      <td>142.712000</td>\n",
       "      <td>64.200000</td>\n",
       "      <td>5.000000</td>\n",
       "      <td>103.000000</td>\n",
       "      <td>124.200000</td>\n",
       "      <td>5.047000</td>\n",
       "      <td>1.120000</td>\n",
       "      <td>10.100000</td>\n",
       "      <td>10.700000</td>\n",
       "      <td>0.128000</td>\n",
       "      <td>30.000000</td>\n",
       "    </tr>\n",
       "    <tr>\n",
       "      <th>max</th>\n",
       "      <td>87.221000</td>\n",
       "      <td>180.000000</td>\n",
       "      <td>700.900000</td>\n",
       "      <td>9.100000</td>\n",
       "      <td>934.000000</td>\n",
       "      <td>353.000000</td>\n",
       "      <td>62.626000</td>\n",
       "      <td>69.320000</td>\n",
       "      <td>99.000000</td>\n",
       "      <td>791.300000</td>\n",
       "      <td>1.642000</td>\n",
       "      <td>941.000000</td>\n",
       "    </tr>\n",
       "  </tbody>\n",
       "</table>\n",
       "</div>"
      ],
      "text/plain": [
       "            latitude      longitude          depth            mag  \\\n",
       "count  209457.000000  209457.000000  209457.000000  209457.000000   \n",
       "mean        3.878726      45.582278      72.683005       4.879487   \n",
       "std        28.925058     120.435723     118.293309       0.411393   \n",
       "min       -84.133000    -179.999000      -2.540000       4.500000   \n",
       "25%       -17.356000     -70.726000      10.450000       4.600000   \n",
       "50%        -0.066000     103.386000      33.000000       4.800000   \n",
       "75%        28.109000     142.712000      64.200000       5.000000   \n",
       "max        87.221000     180.000000     700.900000       9.100000   \n",
       "\n",
       "                nst            gap          dmin            rms  \\\n",
       "count  87625.000000  110710.000000  37466.000000  200202.000000   \n",
       "mean      84.961050      95.211482      4.481166       0.978400   \n",
       "std       99.297185      47.488716      5.941718       0.302074   \n",
       "min        0.000000       0.000000      0.000000       0.000000   \n",
       "25%       24.000000      59.000000      1.286000       0.820000   \n",
       "50%       48.000000      90.400000      2.687000       0.980000   \n",
       "75%      103.000000     124.200000      5.047000       1.120000   \n",
       "max      934.000000     353.000000     62.626000      69.320000   \n",
       "\n",
       "       horizontalError    depthError      magError         magNst  \n",
       "count     30235.000000  95990.000000  35817.000000  164656.000000  \n",
       "mean          8.411724      8.566884      0.102116      27.747231  \n",
       "std           5.517162      8.375248      0.061556      46.814892  \n",
       "min           0.000000      0.000000      0.000000       0.000000  \n",
       "25%           6.100000      3.600000      0.061000       5.000000  \n",
       "50%           7.900000      6.400000      0.088000      13.000000  \n",
       "75%          10.100000     10.700000      0.128000      30.000000  \n",
       "max          99.000000    791.300000      1.642000     941.000000  "
      ]
     },
     "execution_count": 30,
     "metadata": {},
     "output_type": "execute_result"
    }
   ],
   "source": [
    "from functools import reduce\n",
    "\n",
    "merged_df = reduce(lambda d1, d2: d1.append(d2, ignore_index=True), dfs)\n",
    "merged_df.describe()"
   ]
  },
  {
   "cell_type": "code",
   "execution_count": 32,
   "metadata": {},
   "outputs": [
    {
     "name": "stdout",
     "output_type": "stream",
     "text": [
      "<class 'pandas.core.frame.DataFrame'>\n",
      "RangeIndex: 209457 entries, 0 to 209456\n",
      "Data columns (total 22 columns):\n",
      "time               209457 non-null object\n",
      "latitude           209457 non-null float64\n",
      "longitude          209457 non-null float64\n",
      "depth              209457 non-null float64\n",
      "mag                209457 non-null float64\n",
      "magType            209456 non-null object\n",
      "nst                87625 non-null float64\n",
      "gap                110710 non-null float64\n",
      "dmin               37466 non-null float64\n",
      "rms                200202 non-null float64\n",
      "net                209457 non-null object\n",
      "id                 209457 non-null object\n",
      "updated            209457 non-null object\n",
      "place              209452 non-null object\n",
      "type               209457 non-null object\n",
      "horizontalError    30235 non-null float64\n",
      "depthError         95990 non-null float64\n",
      "magError           35817 non-null float64\n",
      "magNst             164656 non-null float64\n",
      "status             209457 non-null object\n",
      "locationSource     209457 non-null object\n",
      "magSource          209457 non-null object\n",
      "dtypes: float64(12), object(10)\n",
      "memory usage: 35.2+ MB\n"
     ]
    }
   ],
   "source": [
    "merged_df.info()"
   ]
  },
  {
   "cell_type": "code",
   "execution_count": 33,
   "metadata": {},
   "outputs": [],
   "source": [
    "merged_df.to_csv('earthquakes.csv')"
   ]
  }
 ],
 "metadata": {
  "kernelspec": {
   "display_name": "Python 3",
   "language": "python",
   "name": "python3"
  },
  "language_info": {
   "codemirror_mode": {
    "name": "ipython",
    "version": 3
   },
   "file_extension": ".py",
   "mimetype": "text/x-python",
   "name": "python",
   "nbconvert_exporter": "python",
   "pygments_lexer": "ipython3",
   "version": "3.6.4"
  }
 },
 "nbformat": 4,
 "nbformat_minor": 2
}
